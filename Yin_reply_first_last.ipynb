{
 "cells": [
  {
   "cell_type": "code",
   "execution_count": null,
   "metadata": {},
   "outputs": [],
   "source": [
    "import pandas as pd\n",
    "import numpy as np\n",
    "\n",
    "Covid19= pd.read_csv(\"~/Desktop/Covid19-reply/COVID_full_labs_20200526a.CSV\", encoding=\"cp1252\", header = 0)"
   ]
  },
  {
   "cell_type": "code",
   "execution_count": null,
   "metadata": {},
   "outputs": [],
   "source": [
    "Combined['First_LDH'] = Combined['First_LDH'].apply(lambda x: float(x))\n",
    "Combined['First_Lymph'] = Combined['First_Lymph'].apply(lambda x: float(x))\n",
    "Combined['First_CRP'] = Combined['First_CRP'].apply(lambda x: float(x))\n",
    "Combined['Last_LDH'] = Combined['Last_LDH'].apply(lambda x: float(x))\n",
    "Combined['Last_Lymph'] = Combined['Last_Lymph'].apply(lambda x: float(x))\n",
    "Combined['Last_CRP'] = Combined['Last_CRP'].apply(lambda x: float(x))"
   ]
  },
  {
   "cell_type": "code",
   "execution_count": null,
   "metadata": {},
   "outputs": [],
   "source": [
    "len(Combined[(Combined['Last_LDH']>=365) & (Combined['Expired_Outcome']==1)])"
   ]
  },
  {
   "cell_type": "code",
   "execution_count": null,
   "metadata": {},
   "outputs": [],
   "source": [
    "len(Combined[(Combined['First_LDH']<365) & (Combined['First_CRP']>=41.2) & (Combined['First_Lymph']>14.7)& (Combined['Expired_Outcome']==0)])"
   ]
  },
  {
   "cell_type": "code",
   "execution_count": null,
   "metadata": {},
   "outputs": [],
   "source": [
    "len(Combined[(Combined['Last_LDH']<365) & (Combined['Last_CRP']>=41.2)& (Combined['Last_Lymph']<=14.7)& (Combined['Expired_Outcome']==0)])"
   ]
  }
 ],
 "metadata": {
  "kernelspec": {
   "display_name": "Python 3",
   "language": "python",
   "name": "python3"
  },
  "language_info": {
   "codemirror_mode": {
    "name": "ipython",
    "version": 3
   },
   "file_extension": ".py",
   "mimetype": "text/x-python",
   "name": "python",
   "nbconvert_exporter": "python",
   "pygments_lexer": "ipython3",
   "version": "3.7.6"
  }
 },
 "nbformat": 4,
 "nbformat_minor": 4
}
