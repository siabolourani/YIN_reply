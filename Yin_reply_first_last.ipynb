{
 "cells": [
  {
   "cell_type": "code",
   "execution_count": null,
   "metadata": {},
   "outputs": [],
   "source": [
    "import pandas as pd\n",
    "import numpy as np\n",
    "\n",
    "Covid19= pd.read_csv(\"Yan_reply_First_last.csv\", encoding=\"cp1252\", header = 0)"
   ]
  },
  {
   "cell_type": "code",
   "execution_count": null,
   "metadata": {},
   "outputs": [],
   "source": [
    "Covid19['First_LDH'] = Covid19['First_LDH'].apply(lambda x: float(x))\n",
    "Covid19['First_Lymph'] = Covid19['First_Lymph'].apply(lambda x: float(x))\n",
    "Covid19['First_CRP'] = Covid19['First_CRP'].apply(lambda x: float(x))\n",
    "Covid19['Last_LDH'] = Covid19['Last_LDH'].apply(lambda x: float(x))\n",
    "Covid19['Last_Lymph'] = Covid19['Last_Lymph'].apply(lambda x: float(x))\n",
    "Covid19['Last_CRP'] = Covid19['Last_CRP'].apply(lambda x: float(x))"
   ]
  },
  {
   "cell_type": "code",
   "execution_count": null,
   "metadata": {},
   "outputs": [],
   "source": [
    "len(Covid19[(Covid19['Last_LDH']>=365) & (Covid19['Expired_Outcome']==1)])"
   ]
  },
  {
   "cell_type": "code",
   "execution_count": null,
   "metadata": {},
   "outputs": [],
   "source": [
    "len(Covid19[(Covid19['First_LDH']<365) & (Covid19['First_CRP']>=41.2) & (Covid19['First_Lymph']>14.7)& (Covid19['Expired_Outcome']==0)])"
   ]
  },
  {
   "cell_type": "code",
   "execution_count": null,
   "metadata": {},
   "outputs": [],
   "source": [
    "len(Covid19[(Covid19['Last_LDH']<365) & (Covid19['Last_CRP']>=41.2)& (Covid19['Last_Lymph']<=14.7)& (Covid19['Expired_Outcome']==0)])"
   ]
  }
 ],
 "metadata": {
  "kernelspec": {
   "display_name": "Python 3",
   "language": "python",
   "name": "python3"
  },
  "language_info": {
   "codemirror_mode": {
    "name": "ipython",
    "version": 3
   },
   "file_extension": ".py",
   "mimetype": "text/x-python",
   "name": "python",
   "nbconvert_exporter": "python",
   "pygments_lexer": "ipython3",
   "version": "3.7.6"
  }
 },
 "nbformat": 4,
 "nbformat_minor": 4
}
